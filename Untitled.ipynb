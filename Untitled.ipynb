{
 "cells": [
  {
   "cell_type": "code",
   "execution_count": 2,
   "id": "6a676c77-3986-4a10-857b-a8a0190efd21",
   "metadata": {
    "tags": []
   },
   "outputs": [],
   "source": [
    "import numpy as np\n",
    "import pandas as pd\n",
    "from sklearn.model_selection import train_test_split\n",
    "from sklearn.metrics import mean_squared_error\n",
    "from sklearn.linear_model import Lasso\n",
    "from sklearn.svm import SVR\n",
    "from sklearn.ensemble import RandomForestClassifier\n",
    "from sklearn.preprocessing import StandardScaler"
   ]
  },
  {
   "cell_type": "code",
   "execution_count": 3,
   "id": "71861dbc-975c-45ea-857c-5ddb4afd1c7f",
   "metadata": {
    "tags": []
   },
   "outputs": [],
   "source": [
    "train_data = pd.read_csv(\"amp-parkinsons-disease-progression-prediction/train_proteins.csv\")"
   ]
  },
  {
   "cell_type": "code",
   "execution_count": 4,
   "id": "99b3a632-516c-435b-9e1d-86d9fcf59a5d",
   "metadata": {
    "tags": []
   },
   "outputs": [
    {
     "name": "stdout",
     "output_type": "stream",
     "text": [
      "         visit_id  visit_month  patient_id UniProt       NPX\n",
      "0            55_0            0          55  O00391   11254.3\n",
      "1            55_0            0          55  O00533  732430.0\n",
      "2            55_0            0          55  O00584   39585.8\n",
      "3            55_0            0          55  O14498   41526.9\n",
      "4            55_0            0          55  O14773   31238.0\n",
      "...           ...          ...         ...     ...       ...\n",
      "232736  58648_108          108       58648  Q9UBX5   27387.8\n",
      "232737  58648_108          108       58648  Q9UHG2  369437.0\n",
      "232738  58648_108          108       58648  Q9UKV8  105830.0\n",
      "232739  58648_108          108       58648  Q9Y646   21257.6\n",
      "232740  58648_108          108       58648  Q9Y6R7   17953.1\n",
      "\n",
      "[232741 rows x 5 columns]\n"
     ]
    }
   ],
   "source": [
    "print(train_data)"
   ]
  },
  {
   "cell_type": "code",
   "execution_count": null,
   "id": "0d0c37cb-56cd-4b9a-bf78-526bf89b6234",
   "metadata": {},
   "outputs": [],
   "source": []
  }
 ],
 "metadata": {
  "kernelspec": {
   "display_name": "Python 3 (ipykernel)",
   "language": "python",
   "name": "python3"
  },
  "language_info": {
   "codemirror_mode": {
    "name": "ipython",
    "version": 3
   },
   "file_extension": ".py",
   "mimetype": "text/x-python",
   "name": "python",
   "nbconvert_exporter": "python",
   "pygments_lexer": "ipython3",
   "version": "3.8.10"
  }
 },
 "nbformat": 4,
 "nbformat_minor": 5
}
